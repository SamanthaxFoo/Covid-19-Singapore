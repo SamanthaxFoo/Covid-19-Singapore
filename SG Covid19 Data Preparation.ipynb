{
 "cells": [
  {
   "cell_type": "markdown",
   "id": "0b971b67",
   "metadata": {},
   "source": [
    "# Singapore COVID-19 Data Preparation"
   ]
  },
  {
   "cell_type": "markdown",
   "id": "48a8728f",
   "metadata": {},
   "source": [
    "Originally Collected and Maintained by :\n",
    "\n",
    "- Ministry of Health (MOH) Singapore\n",
    "- Hui Xiang Chu (https://twitter.com/hxchuaruns)"
   ]
  },
  {
   "cell_type": "markdown",
   "id": "460c63fe",
   "metadata": {},
   "source": [
    "# 1. Load and Explore the Data"
   ]
  },
  {
   "cell_type": "code",
   "execution_count": 1,
   "id": "c326f025",
   "metadata": {},
   "outputs": [],
   "source": [
    "# Load the full csv\n",
    "import pandas as pd\n",
    "df = pd.read_csv(\"covid19_sg.csv\")"
   ]
  },
  {
   "cell_type": "code",
   "execution_count": 2,
   "id": "41d0552f",
   "metadata": {},
   "outputs": [],
   "source": [
    "# Create a copy\n",
    "df_new = df.copy()"
   ]
  },
  {
   "cell_type": "code",
   "execution_count": 3,
   "id": "737b9152",
   "metadata": {},
   "outputs": [
    {
     "data": {
      "text/html": [
       "<div>\n",
       "<style scoped>\n",
       "    .dataframe tbody tr th:only-of-type {\n",
       "        vertical-align: middle;\n",
       "    }\n",
       "\n",
       "    .dataframe tbody tr th {\n",
       "        vertical-align: top;\n",
       "    }\n",
       "\n",
       "    .dataframe thead th {\n",
       "        text-align: right;\n",
       "    }\n",
       "</style>\n",
       "<table border=\"1\" class=\"dataframe\">\n",
       "  <thead>\n",
       "    <tr style=\"text-align: right;\">\n",
       "      <th></th>\n",
       "      <th>Date</th>\n",
       "      <th>Daily Confirmed</th>\n",
       "      <th>False Positives Found</th>\n",
       "      <th>Cumulative Confirmed</th>\n",
       "      <th>Daily Discharged</th>\n",
       "      <th>Passed but not due to COVID</th>\n",
       "      <th>Cumulative Discharged</th>\n",
       "      <th>Discharged to Isolation</th>\n",
       "      <th>Still Hospitalised</th>\n",
       "      <th>Daily Deaths</th>\n",
       "      <th>...</th>\n",
       "      <th>Cumulative Individuals Vaccinated</th>\n",
       "      <th>Cumulative Individuals Vaccination Completed</th>\n",
       "      <th>Perc population completed at least one dose</th>\n",
       "      <th>Perc population completed vaccination</th>\n",
       "      <th>Sinovac vaccine doses</th>\n",
       "      <th>Cumulative individuals using Sinovac vaccine</th>\n",
       "      <th>Doses of other vaccines recognised by WHO</th>\n",
       "      <th>Cumulative individuals using other vaccines recognised by WHO</th>\n",
       "      <th>Number taken booster shots</th>\n",
       "      <th>Perc population taken booster shots</th>\n",
       "    </tr>\n",
       "  </thead>\n",
       "  <tbody>\n",
       "    <tr>\n",
       "      <th>0</th>\n",
       "      <td>2020-01-23</td>\n",
       "      <td>1</td>\n",
       "      <td>NaN</td>\n",
       "      <td>1</td>\n",
       "      <td>0</td>\n",
       "      <td>0</td>\n",
       "      <td>0</td>\n",
       "      <td>0</td>\n",
       "      <td>1</td>\n",
       "      <td>0</td>\n",
       "      <td>...</td>\n",
       "      <td>NaN</td>\n",
       "      <td>NaN</td>\n",
       "      <td>NaN</td>\n",
       "      <td>NaN</td>\n",
       "      <td>NaN</td>\n",
       "      <td>NaN</td>\n",
       "      <td>NaN</td>\n",
       "      <td>NaN</td>\n",
       "      <td>NaN</td>\n",
       "      <td>NaN</td>\n",
       "    </tr>\n",
       "    <tr>\n",
       "      <th>1</th>\n",
       "      <td>2020-01-24</td>\n",
       "      <td>2</td>\n",
       "      <td>NaN</td>\n",
       "      <td>3</td>\n",
       "      <td>0</td>\n",
       "      <td>0</td>\n",
       "      <td>0</td>\n",
       "      <td>0</td>\n",
       "      <td>3</td>\n",
       "      <td>0</td>\n",
       "      <td>...</td>\n",
       "      <td>NaN</td>\n",
       "      <td>NaN</td>\n",
       "      <td>NaN</td>\n",
       "      <td>NaN</td>\n",
       "      <td>NaN</td>\n",
       "      <td>NaN</td>\n",
       "      <td>NaN</td>\n",
       "      <td>NaN</td>\n",
       "      <td>NaN</td>\n",
       "      <td>NaN</td>\n",
       "    </tr>\n",
       "    <tr>\n",
       "      <th>2</th>\n",
       "      <td>2020-01-25</td>\n",
       "      <td>1</td>\n",
       "      <td>NaN</td>\n",
       "      <td>4</td>\n",
       "      <td>0</td>\n",
       "      <td>0</td>\n",
       "      <td>0</td>\n",
       "      <td>0</td>\n",
       "      <td>4</td>\n",
       "      <td>0</td>\n",
       "      <td>...</td>\n",
       "      <td>NaN</td>\n",
       "      <td>NaN</td>\n",
       "      <td>NaN</td>\n",
       "      <td>NaN</td>\n",
       "      <td>NaN</td>\n",
       "      <td>NaN</td>\n",
       "      <td>NaN</td>\n",
       "      <td>NaN</td>\n",
       "      <td>NaN</td>\n",
       "      <td>NaN</td>\n",
       "    </tr>\n",
       "    <tr>\n",
       "      <th>3</th>\n",
       "      <td>2020-01-26</td>\n",
       "      <td>0</td>\n",
       "      <td>NaN</td>\n",
       "      <td>4</td>\n",
       "      <td>0</td>\n",
       "      <td>0</td>\n",
       "      <td>0</td>\n",
       "      <td>0</td>\n",
       "      <td>4</td>\n",
       "      <td>0</td>\n",
       "      <td>...</td>\n",
       "      <td>NaN</td>\n",
       "      <td>NaN</td>\n",
       "      <td>NaN</td>\n",
       "      <td>NaN</td>\n",
       "      <td>NaN</td>\n",
       "      <td>NaN</td>\n",
       "      <td>NaN</td>\n",
       "      <td>NaN</td>\n",
       "      <td>NaN</td>\n",
       "      <td>NaN</td>\n",
       "    </tr>\n",
       "    <tr>\n",
       "      <th>4</th>\n",
       "      <td>2020-01-27</td>\n",
       "      <td>1</td>\n",
       "      <td>NaN</td>\n",
       "      <td>5</td>\n",
       "      <td>0</td>\n",
       "      <td>0</td>\n",
       "      <td>0</td>\n",
       "      <td>0</td>\n",
       "      <td>5</td>\n",
       "      <td>0</td>\n",
       "      <td>...</td>\n",
       "      <td>NaN</td>\n",
       "      <td>NaN</td>\n",
       "      <td>NaN</td>\n",
       "      <td>NaN</td>\n",
       "      <td>NaN</td>\n",
       "      <td>NaN</td>\n",
       "      <td>NaN</td>\n",
       "      <td>NaN</td>\n",
       "      <td>NaN</td>\n",
       "      <td>NaN</td>\n",
       "    </tr>\n",
       "    <tr>\n",
       "      <th>...</th>\n",
       "      <td>...</td>\n",
       "      <td>...</td>\n",
       "      <td>...</td>\n",
       "      <td>...</td>\n",
       "      <td>...</td>\n",
       "      <td>...</td>\n",
       "      <td>...</td>\n",
       "      <td>...</td>\n",
       "      <td>...</td>\n",
       "      <td>...</td>\n",
       "      <td>...</td>\n",
       "      <td>...</td>\n",
       "      <td>...</td>\n",
       "      <td>...</td>\n",
       "      <td>...</td>\n",
       "      <td>...</td>\n",
       "      <td>...</td>\n",
       "      <td>...</td>\n",
       "      <td>...</td>\n",
       "      <td>...</td>\n",
       "      <td>...</td>\n",
       "    </tr>\n",
       "    <tr>\n",
       "      <th>712</th>\n",
       "      <td>2022-01-04</td>\n",
       "      <td>842</td>\n",
       "      <td>0.0</td>\n",
       "      <td>281596</td>\n",
       "      <td>271</td>\n",
       "      <td>0</td>\n",
       "      <td>276936</td>\n",
       "      <td>3669</td>\n",
       "      <td>151</td>\n",
       "      <td>3</td>\n",
       "      <td>...</td>\n",
       "      <td>NaN</td>\n",
       "      <td>NaN</td>\n",
       "      <td>88%</td>\n",
       "      <td>87%</td>\n",
       "      <td>NaN</td>\n",
       "      <td>NaN</td>\n",
       "      <td>NaN</td>\n",
       "      <td>NaN</td>\n",
       "      <td>NaN</td>\n",
       "      <td>42%</td>\n",
       "    </tr>\n",
       "    <tr>\n",
       "      <th>713</th>\n",
       "      <td>2022-01-05</td>\n",
       "      <td>805</td>\n",
       "      <td>0.0</td>\n",
       "      <td>282401</td>\n",
       "      <td>453</td>\n",
       "      <td>0</td>\n",
       "      <td>277389</td>\n",
       "      <td>4015</td>\n",
       "      <td>155</td>\n",
       "      <td>2</td>\n",
       "      <td>...</td>\n",
       "      <td>NaN</td>\n",
       "      <td>NaN</td>\n",
       "      <td>88%</td>\n",
       "      <td>87%</td>\n",
       "      <td>NaN</td>\n",
       "      <td>NaN</td>\n",
       "      <td>NaN</td>\n",
       "      <td>NaN</td>\n",
       "      <td>NaN</td>\n",
       "      <td>43%</td>\n",
       "    </tr>\n",
       "    <tr>\n",
       "      <th>714</th>\n",
       "      <td>2022-01-06</td>\n",
       "      <td>813</td>\n",
       "      <td>0.0</td>\n",
       "      <td>283214</td>\n",
       "      <td>392</td>\n",
       "      <td>0</td>\n",
       "      <td>277781</td>\n",
       "      <td>4449</td>\n",
       "      <td>141</td>\n",
       "      <td>1</td>\n",
       "      <td>...</td>\n",
       "      <td>NaN</td>\n",
       "      <td>NaN</td>\n",
       "      <td>88%</td>\n",
       "      <td>87%</td>\n",
       "      <td>NaN</td>\n",
       "      <td>NaN</td>\n",
       "      <td>NaN</td>\n",
       "      <td>NaN</td>\n",
       "      <td>NaN</td>\n",
       "      <td>44%</td>\n",
       "    </tr>\n",
       "    <tr>\n",
       "      <th>715</th>\n",
       "      <td>2022-01-07</td>\n",
       "      <td>777</td>\n",
       "      <td>0.0</td>\n",
       "      <td>283991</td>\n",
       "      <td>338</td>\n",
       "      <td>0</td>\n",
       "      <td>278119</td>\n",
       "      <td>4892</td>\n",
       "      <td>135</td>\n",
       "      <td>2</td>\n",
       "      <td>...</td>\n",
       "      <td>NaN</td>\n",
       "      <td>NaN</td>\n",
       "      <td>89%</td>\n",
       "      <td>87%</td>\n",
       "      <td>NaN</td>\n",
       "      <td>NaN</td>\n",
       "      <td>NaN</td>\n",
       "      <td>NaN</td>\n",
       "      <td>NaN</td>\n",
       "      <td>44%</td>\n",
       "    </tr>\n",
       "    <tr>\n",
       "      <th>716</th>\n",
       "      <td>2022-01-08</td>\n",
       "      <td>811</td>\n",
       "      <td>0.0</td>\n",
       "      <td>284802</td>\n",
       "      <td>336</td>\n",
       "      <td>0</td>\n",
       "      <td>278455</td>\n",
       "      <td>5372</td>\n",
       "      <td>130</td>\n",
       "      <td>0</td>\n",
       "      <td>...</td>\n",
       "      <td>NaN</td>\n",
       "      <td>NaN</td>\n",
       "      <td>89%</td>\n",
       "      <td>87%</td>\n",
       "      <td>NaN</td>\n",
       "      <td>NaN</td>\n",
       "      <td>NaN</td>\n",
       "      <td>NaN</td>\n",
       "      <td>NaN</td>\n",
       "      <td>45%</td>\n",
       "    </tr>\n",
       "  </tbody>\n",
       "</table>\n",
       "<p>717 rows × 36 columns</p>\n",
       "</div>"
      ],
      "text/plain": [
       "           Date  Daily Confirmed  False Positives Found  Cumulative Confirmed  \\\n",
       "0    2020-01-23                1                    NaN                     1   \n",
       "1    2020-01-24                2                    NaN                     3   \n",
       "2    2020-01-25                1                    NaN                     4   \n",
       "3    2020-01-26                0                    NaN                     4   \n",
       "4    2020-01-27                1                    NaN                     5   \n",
       "..          ...              ...                    ...                   ...   \n",
       "712  2022-01-04              842                    0.0                281596   \n",
       "713  2022-01-05              805                    0.0                282401   \n",
       "714  2022-01-06              813                    0.0                283214   \n",
       "715  2022-01-07              777                    0.0                283991   \n",
       "716  2022-01-08              811                    0.0                284802   \n",
       "\n",
       "     Daily Discharged  Passed but not due to COVID  Cumulative Discharged  \\\n",
       "0                   0                            0                      0   \n",
       "1                   0                            0                      0   \n",
       "2                   0                            0                      0   \n",
       "3                   0                            0                      0   \n",
       "4                   0                            0                      0   \n",
       "..                ...                          ...                    ...   \n",
       "712               271                            0                 276936   \n",
       "713               453                            0                 277389   \n",
       "714               392                            0                 277781   \n",
       "715               338                            0                 278119   \n",
       "716               336                            0                 278455   \n",
       "\n",
       "     Discharged to Isolation  Still Hospitalised  Daily Deaths  ...  \\\n",
       "0                          0                   1             0  ...   \n",
       "1                          0                   3             0  ...   \n",
       "2                          0                   4             0  ...   \n",
       "3                          0                   4             0  ...   \n",
       "4                          0                   5             0  ...   \n",
       "..                       ...                 ...           ...  ...   \n",
       "712                     3669                 151             3  ...   \n",
       "713                     4015                 155             2  ...   \n",
       "714                     4449                 141             1  ...   \n",
       "715                     4892                 135             2  ...   \n",
       "716                     5372                 130             0  ...   \n",
       "\n",
       "     Cumulative Individuals Vaccinated  \\\n",
       "0                                  NaN   \n",
       "1                                  NaN   \n",
       "2                                  NaN   \n",
       "3                                  NaN   \n",
       "4                                  NaN   \n",
       "..                                 ...   \n",
       "712                                NaN   \n",
       "713                                NaN   \n",
       "714                                NaN   \n",
       "715                                NaN   \n",
       "716                                NaN   \n",
       "\n",
       "     Cumulative Individuals Vaccination Completed  \\\n",
       "0                                             NaN   \n",
       "1                                             NaN   \n",
       "2                                             NaN   \n",
       "3                                             NaN   \n",
       "4                                             NaN   \n",
       "..                                            ...   \n",
       "712                                           NaN   \n",
       "713                                           NaN   \n",
       "714                                           NaN   \n",
       "715                                           NaN   \n",
       "716                                           NaN   \n",
       "\n",
       "     Perc population completed at least one dose  \\\n",
       "0                                            NaN   \n",
       "1                                            NaN   \n",
       "2                                            NaN   \n",
       "3                                            NaN   \n",
       "4                                            NaN   \n",
       "..                                           ...   \n",
       "712                                          88%   \n",
       "713                                          88%   \n",
       "714                                          88%   \n",
       "715                                          89%   \n",
       "716                                          89%   \n",
       "\n",
       "     Perc population completed vaccination  Sinovac vaccine doses  \\\n",
       "0                                      NaN                    NaN   \n",
       "1                                      NaN                    NaN   \n",
       "2                                      NaN                    NaN   \n",
       "3                                      NaN                    NaN   \n",
       "4                                      NaN                    NaN   \n",
       "..                                     ...                    ...   \n",
       "712                                    87%                    NaN   \n",
       "713                                    87%                    NaN   \n",
       "714                                    87%                    NaN   \n",
       "715                                    87%                    NaN   \n",
       "716                                    87%                    NaN   \n",
       "\n",
       "     Cumulative individuals using Sinovac vaccine  \\\n",
       "0                                             NaN   \n",
       "1                                             NaN   \n",
       "2                                             NaN   \n",
       "3                                             NaN   \n",
       "4                                             NaN   \n",
       "..                                            ...   \n",
       "712                                           NaN   \n",
       "713                                           NaN   \n",
       "714                                           NaN   \n",
       "715                                           NaN   \n",
       "716                                           NaN   \n",
       "\n",
       "     Doses of other vaccines recognised by WHO  \\\n",
       "0                                          NaN   \n",
       "1                                          NaN   \n",
       "2                                          NaN   \n",
       "3                                          NaN   \n",
       "4                                          NaN   \n",
       "..                                         ...   \n",
       "712                                        NaN   \n",
       "713                                        NaN   \n",
       "714                                        NaN   \n",
       "715                                        NaN   \n",
       "716                                        NaN   \n",
       "\n",
       "     Cumulative individuals using other vaccines recognised by WHO  \\\n",
       "0                                                  NaN               \n",
       "1                                                  NaN               \n",
       "2                                                  NaN               \n",
       "3                                                  NaN               \n",
       "4                                                  NaN               \n",
       "..                                                 ...               \n",
       "712                                                NaN               \n",
       "713                                                NaN               \n",
       "714                                                NaN               \n",
       "715                                                NaN               \n",
       "716                                                NaN               \n",
       "\n",
       "     Number taken booster shots  Perc population taken booster shots  \n",
       "0                           NaN                                  NaN  \n",
       "1                           NaN                                  NaN  \n",
       "2                           NaN                                  NaN  \n",
       "3                           NaN                                  NaN  \n",
       "4                           NaN                                  NaN  \n",
       "..                          ...                                  ...  \n",
       "712                         NaN                                  42%  \n",
       "713                         NaN                                  43%  \n",
       "714                         NaN                                  44%  \n",
       "715                         NaN                                  44%  \n",
       "716                         NaN                                  45%  \n",
       "\n",
       "[717 rows x 36 columns]"
      ]
     },
     "execution_count": 3,
     "metadata": {},
     "output_type": "execute_result"
    }
   ],
   "source": [
    "# Display overview of data\n",
    "df_new"
   ]
  },
  {
   "cell_type": "code",
   "execution_count": 4,
   "id": "ae237388",
   "metadata": {},
   "outputs": [
    {
     "name": "stdout",
     "output_type": "stream",
     "text": [
      "<class 'pandas.core.frame.DataFrame'>\n",
      "RangeIndex: 717 entries, 0 to 716\n",
      "Data columns (total 36 columns):\n",
      " #   Column                                                         Non-Null Count  Dtype  \n",
      "---  ------                                                         --------------  -----  \n",
      " 0   Date                                                           717 non-null    object \n",
      " 1   Daily Confirmed                                                717 non-null    int64  \n",
      " 2   False Positives Found                                          608 non-null    float64\n",
      " 3   Cumulative Confirmed                                           717 non-null    int64  \n",
      " 4   Daily Discharged                                               717 non-null    int64  \n",
      " 5   Passed but not due to COVID                                    717 non-null    int64  \n",
      " 6   Cumulative Discharged                                          717 non-null    int64  \n",
      " 7   Discharged to Isolation                                        717 non-null    int64  \n",
      " 8   Still Hospitalised                                             717 non-null    int64  \n",
      " 9   Daily Deaths                                                   717 non-null    int64  \n",
      " 10  Cumulative Deaths                                              717 non-null    int64  \n",
      " 11  Tested positive demise                                         717 non-null    int64  \n",
      " 12  Daily Imported                                                 717 non-null    int64  \n",
      " 13  Daily Local transmission                                       717 non-null    int64  \n",
      " 14  Local cases residing in dorms MOH report                       651 non-null    float64\n",
      " 15  Local cases not residing in doms MOH report                    651 non-null    float64\n",
      " 16  Intensive Care Unit (ICU)                                      717 non-null    int64  \n",
      " 17  General Wards MOH report                                       660 non-null    float64\n",
      " 18  In Isolation MOH report                                        660 non-null    float64\n",
      " 19  Total Completed Isolation MOH report                           659 non-null    float64\n",
      " 20  Total Hospital Discharged MOH report                           659 non-null    float64\n",
      " 21  Requires Oxygen Supplementation or Unstable                    215 non-null    float64\n",
      " 22  Linked community cases                                         160 non-null    float64\n",
      " 23  Unlinked community cases                                       160 non-null    float64\n",
      " 24  Phase                                                          642 non-null    object \n",
      " 25  Cumulative Vaccine Doses                                       120 non-null    float64\n",
      " 26  Cumulative Individuals Vaccinated                              120 non-null    float64\n",
      " 27  Cumulative Individuals Vaccination Completed                   120 non-null    float64\n",
      " 28  Perc population completed at least one dose                    161 non-null    object \n",
      " 29  Perc population completed vaccination                          161 non-null    object \n",
      " 30  Sinovac vaccine doses                                          9 non-null      float64\n",
      " 31  Cumulative individuals using Sinovac vaccine                   9 non-null      float64\n",
      " 32  Doses of other vaccines recognised by WHO                      80 non-null     float64\n",
      " 33  Cumulative individuals using other vaccines recognised by WHO  80 non-null     float64\n",
      " 34  Number taken booster shots                                     31 non-null     float64\n",
      " 35  Perc population taken booster shots                            75 non-null     object \n",
      "dtypes: float64(18), int64(13), object(5)\n",
      "memory usage: 201.8+ KB\n"
     ]
    }
   ],
   "source": [
    "df_new.info()"
   ]
  },
  {
   "cell_type": "code",
   "execution_count": 5,
   "id": "6bd9b311",
   "metadata": {
    "scrolled": false
   },
   "outputs": [
    {
     "data": {
      "text/html": [
       "<div>\n",
       "<style scoped>\n",
       "    .dataframe tbody tr th:only-of-type {\n",
       "        vertical-align: middle;\n",
       "    }\n",
       "\n",
       "    .dataframe tbody tr th {\n",
       "        vertical-align: top;\n",
       "    }\n",
       "\n",
       "    .dataframe thead th {\n",
       "        text-align: right;\n",
       "    }\n",
       "</style>\n",
       "<table border=\"1\" class=\"dataframe\">\n",
       "  <thead>\n",
       "    <tr style=\"text-align: right;\">\n",
       "      <th></th>\n",
       "      <th>Daily Confirmed</th>\n",
       "      <th>False Positives Found</th>\n",
       "      <th>Cumulative Confirmed</th>\n",
       "      <th>Daily Discharged</th>\n",
       "      <th>Passed but not due to COVID</th>\n",
       "      <th>Cumulative Discharged</th>\n",
       "      <th>Discharged to Isolation</th>\n",
       "      <th>Still Hospitalised</th>\n",
       "      <th>Daily Deaths</th>\n",
       "      <th>Cumulative Deaths</th>\n",
       "      <th>...</th>\n",
       "      <th>Linked community cases</th>\n",
       "      <th>Unlinked community cases</th>\n",
       "      <th>Cumulative Vaccine Doses</th>\n",
       "      <th>Cumulative Individuals Vaccinated</th>\n",
       "      <th>Cumulative Individuals Vaccination Completed</th>\n",
       "      <th>Sinovac vaccine doses</th>\n",
       "      <th>Cumulative individuals using Sinovac vaccine</th>\n",
       "      <th>Doses of other vaccines recognised by WHO</th>\n",
       "      <th>Cumulative individuals using other vaccines recognised by WHO</th>\n",
       "      <th>Number taken booster shots</th>\n",
       "    </tr>\n",
       "  </thead>\n",
       "  <tbody>\n",
       "    <tr>\n",
       "      <th>count</th>\n",
       "      <td>717.000000</td>\n",
       "      <td>608.000000</td>\n",
       "      <td>717.000000</td>\n",
       "      <td>717.000000</td>\n",
       "      <td>717.000000</td>\n",
       "      <td>717.000000</td>\n",
       "      <td>717.000000</td>\n",
       "      <td>717.000000</td>\n",
       "      <td>717.000000</td>\n",
       "      <td>717.00000</td>\n",
       "      <td>...</td>\n",
       "      <td>160.000000</td>\n",
       "      <td>160.000000</td>\n",
       "      <td>1.200000e+02</td>\n",
       "      <td>1.200000e+02</td>\n",
       "      <td>1.200000e+02</td>\n",
       "      <td>9.000000</td>\n",
       "      <td>9.000000</td>\n",
       "      <td>80.000000</td>\n",
       "      <td>80.000000</td>\n",
       "      <td>31.000000</td>\n",
       "    </tr>\n",
       "    <tr>\n",
       "      <th>mean</th>\n",
       "      <td>397.324965</td>\n",
       "      <td>0.131579</td>\n",
       "      <td>72850.330544</td>\n",
       "      <td>388.361227</td>\n",
       "      <td>0.008368</td>\n",
       "      <td>68140.847978</td>\n",
       "      <td>4232.864714</td>\n",
       "      <td>368.168759</td>\n",
       "      <td>1.168759</td>\n",
       "      <td>101.83682</td>\n",
       "      <td>...</td>\n",
       "      <td>30.450000</td>\n",
       "      <td>14.618750</td>\n",
       "      <td>8.295745e+06</td>\n",
       "      <td>4.392539e+06</td>\n",
       "      <td>3.879330e+06</td>\n",
       "      <td>118138.222222</td>\n",
       "      <td>78083.444444</td>\n",
       "      <td>180066.400000</td>\n",
       "      <td>92550.212500</td>\n",
       "      <td>478587.129032</td>\n",
       "    </tr>\n",
       "    <tr>\n",
       "      <th>std</th>\n",
       "      <td>823.667874</td>\n",
       "      <td>2.185573</td>\n",
       "      <td>68093.230057</td>\n",
       "      <td>828.428769</td>\n",
       "      <td>0.091158</td>\n",
       "      <td>64976.613983</td>\n",
       "      <td>7265.481629</td>\n",
       "      <td>557.974075</td>\n",
       "      <td>3.206701</td>\n",
       "      <td>207.90025</td>\n",
       "      <td>...</td>\n",
       "      <td>38.199707</td>\n",
       "      <td>26.721454</td>\n",
       "      <td>1.192874e+06</td>\n",
       "      <td>2.882246e+05</td>\n",
       "      <td>8.200380e+05</td>\n",
       "      <td>10618.138923</td>\n",
       "      <td>3019.922603</td>\n",
       "      <td>38125.334479</td>\n",
       "      <td>18985.378822</td>\n",
       "      <td>180971.682669</td>\n",
       "    </tr>\n",
       "    <tr>\n",
       "      <th>min</th>\n",
       "      <td>0.000000</td>\n",
       "      <td>0.000000</td>\n",
       "      <td>1.000000</td>\n",
       "      <td>0.000000</td>\n",
       "      <td>0.000000</td>\n",
       "      <td>0.000000</td>\n",
       "      <td>0.000000</td>\n",
       "      <td>-16.000000</td>\n",
       "      <td>0.000000</td>\n",
       "      <td>0.00000</td>\n",
       "      <td>...</td>\n",
       "      <td>0.000000</td>\n",
       "      <td>0.000000</td>\n",
       "      <td>5.485548e+06</td>\n",
       "      <td>3.376297e+06</td>\n",
       "      <td>2.109251e+06</td>\n",
       "      <td>104061.000000</td>\n",
       "      <td>74121.000000</td>\n",
       "      <td>42623.000000</td>\n",
       "      <td>24130.000000</td>\n",
       "      <td>172090.000000</td>\n",
       "    </tr>\n",
       "    <tr>\n",
       "      <th>25%</th>\n",
       "      <td>13.000000</td>\n",
       "      <td>0.000000</td>\n",
       "      <td>48035.000000</td>\n",
       "      <td>12.000000</td>\n",
       "      <td>0.000000</td>\n",
       "      <td>44391.000000</td>\n",
       "      <td>103.000000</td>\n",
       "      <td>16.000000</td>\n",
       "      <td>0.000000</td>\n",
       "      <td>27.00000</td>\n",
       "      <td>...</td>\n",
       "      <td>2.000000</td>\n",
       "      <td>1.000000</td>\n",
       "      <td>7.485895e+06</td>\n",
       "      <td>4.297320e+06</td>\n",
       "      <td>3.310855e+06</td>\n",
       "      <td>108815.000000</td>\n",
       "      <td>75856.000000</td>\n",
       "      <td>162833.500000</td>\n",
       "      <td>85373.750000</td>\n",
       "      <td>331327.500000</td>\n",
       "    </tr>\n",
       "    <tr>\n",
       "      <th>50%</th>\n",
       "      <td>40.000000</td>\n",
       "      <td>0.000000</td>\n",
       "      <td>59059.000000</td>\n",
       "      <td>31.000000</td>\n",
       "      <td>0.000000</td>\n",
       "      <td>58793.000000</td>\n",
       "      <td>296.000000</td>\n",
       "      <td>108.000000</td>\n",
       "      <td>0.000000</td>\n",
       "      <td>29.00000</td>\n",
       "      <td>...</td>\n",
       "      <td>12.000000</td>\n",
       "      <td>3.500000</td>\n",
       "      <td>8.689759e+06</td>\n",
       "      <td>4.506378e+06</td>\n",
       "      <td>4.306486e+06</td>\n",
       "      <td>115970.000000</td>\n",
       "      <td>77095.000000</td>\n",
       "      <td>179602.000000</td>\n",
       "      <td>86772.000000</td>\n",
       "      <td>487673.000000</td>\n",
       "    </tr>\n",
       "    <tr>\n",
       "      <th>75%</th>\n",
       "      <td>339.000000</td>\n",
       "      <td>0.000000</td>\n",
       "      <td>62744.000000</td>\n",
       "      <td>313.000000</td>\n",
       "      <td>0.000000</td>\n",
       "      <td>62475.000000</td>\n",
       "      <td>4654.000000</td>\n",
       "      <td>474.000000</td>\n",
       "      <td>0.000000</td>\n",
       "      <td>36.00000</td>\n",
       "      <td>...</td>\n",
       "      <td>49.750000</td>\n",
       "      <td>17.000000</td>\n",
       "      <td>9.135696e+06</td>\n",
       "      <td>4.593508e+06</td>\n",
       "      <td>4.480897e+06</td>\n",
       "      <td>129787.000000</td>\n",
       "      <td>81555.000000</td>\n",
       "      <td>203645.750000</td>\n",
       "      <td>106014.750000</td>\n",
       "      <td>629889.000000</td>\n",
       "    </tr>\n",
       "    <tr>\n",
       "      <th>max</th>\n",
       "      <td>5324.000000</td>\n",
       "      <td>41.000000</td>\n",
       "      <td>284802.000000</td>\n",
       "      <td>5087.000000</td>\n",
       "      <td>1.000000</td>\n",
       "      <td>278455.000000</td>\n",
       "      <td>31166.000000</td>\n",
       "      <td>4229.000000</td>\n",
       "      <td>18.000000</td>\n",
       "      <td>837.00000</td>\n",
       "      <td>...</td>\n",
       "      <td>156.000000</td>\n",
       "      <td>185.000000</td>\n",
       "      <td>1.004902e+07</td>\n",
       "      <td>4.734669e+06</td>\n",
       "      <td>4.675888e+06</td>\n",
       "      <td>131497.000000</td>\n",
       "      <td>81709.000000</td>\n",
       "      <td>239146.000000</td>\n",
       "      <td>122126.000000</td>\n",
       "      <td>760408.000000</td>\n",
       "    </tr>\n",
       "  </tbody>\n",
       "</table>\n",
       "<p>8 rows × 31 columns</p>\n",
       "</div>"
      ],
      "text/plain": [
       "       Daily Confirmed  False Positives Found  Cumulative Confirmed  \\\n",
       "count       717.000000             608.000000            717.000000   \n",
       "mean        397.324965               0.131579          72850.330544   \n",
       "std         823.667874               2.185573          68093.230057   \n",
       "min           0.000000               0.000000              1.000000   \n",
       "25%          13.000000               0.000000          48035.000000   \n",
       "50%          40.000000               0.000000          59059.000000   \n",
       "75%         339.000000               0.000000          62744.000000   \n",
       "max        5324.000000              41.000000         284802.000000   \n",
       "\n",
       "       Daily Discharged  Passed but not due to COVID  Cumulative Discharged  \\\n",
       "count        717.000000                   717.000000             717.000000   \n",
       "mean         388.361227                     0.008368           68140.847978   \n",
       "std          828.428769                     0.091158           64976.613983   \n",
       "min            0.000000                     0.000000               0.000000   \n",
       "25%           12.000000                     0.000000           44391.000000   \n",
       "50%           31.000000                     0.000000           58793.000000   \n",
       "75%          313.000000                     0.000000           62475.000000   \n",
       "max         5087.000000                     1.000000          278455.000000   \n",
       "\n",
       "       Discharged to Isolation  Still Hospitalised  Daily Deaths  \\\n",
       "count               717.000000          717.000000    717.000000   \n",
       "mean               4232.864714          368.168759      1.168759   \n",
       "std                7265.481629          557.974075      3.206701   \n",
       "min                   0.000000          -16.000000      0.000000   \n",
       "25%                 103.000000           16.000000      0.000000   \n",
       "50%                 296.000000          108.000000      0.000000   \n",
       "75%                4654.000000          474.000000      0.000000   \n",
       "max               31166.000000         4229.000000     18.000000   \n",
       "\n",
       "       Cumulative Deaths  ...  Linked community cases  \\\n",
       "count          717.00000  ...              160.000000   \n",
       "mean           101.83682  ...               30.450000   \n",
       "std            207.90025  ...               38.199707   \n",
       "min              0.00000  ...                0.000000   \n",
       "25%             27.00000  ...                2.000000   \n",
       "50%             29.00000  ...               12.000000   \n",
       "75%             36.00000  ...               49.750000   \n",
       "max            837.00000  ...              156.000000   \n",
       "\n",
       "       Unlinked community cases  Cumulative Vaccine Doses  \\\n",
       "count                160.000000              1.200000e+02   \n",
       "mean                  14.618750              8.295745e+06   \n",
       "std                   26.721454              1.192874e+06   \n",
       "min                    0.000000              5.485548e+06   \n",
       "25%                    1.000000              7.485895e+06   \n",
       "50%                    3.500000              8.689759e+06   \n",
       "75%                   17.000000              9.135696e+06   \n",
       "max                  185.000000              1.004902e+07   \n",
       "\n",
       "       Cumulative Individuals Vaccinated  \\\n",
       "count                       1.200000e+02   \n",
       "mean                        4.392539e+06   \n",
       "std                         2.882246e+05   \n",
       "min                         3.376297e+06   \n",
       "25%                         4.297320e+06   \n",
       "50%                         4.506378e+06   \n",
       "75%                         4.593508e+06   \n",
       "max                         4.734669e+06   \n",
       "\n",
       "       Cumulative Individuals Vaccination Completed  Sinovac vaccine doses  \\\n",
       "count                                  1.200000e+02               9.000000   \n",
       "mean                                   3.879330e+06          118138.222222   \n",
       "std                                    8.200380e+05           10618.138923   \n",
       "min                                    2.109251e+06          104061.000000   \n",
       "25%                                    3.310855e+06          108815.000000   \n",
       "50%                                    4.306486e+06          115970.000000   \n",
       "75%                                    4.480897e+06          129787.000000   \n",
       "max                                    4.675888e+06          131497.000000   \n",
       "\n",
       "       Cumulative individuals using Sinovac vaccine  \\\n",
       "count                                      9.000000   \n",
       "mean                                   78083.444444   \n",
       "std                                     3019.922603   \n",
       "min                                    74121.000000   \n",
       "25%                                    75856.000000   \n",
       "50%                                    77095.000000   \n",
       "75%                                    81555.000000   \n",
       "max                                    81709.000000   \n",
       "\n",
       "       Doses of other vaccines recognised by WHO  \\\n",
       "count                                  80.000000   \n",
       "mean                               180066.400000   \n",
       "std                                 38125.334479   \n",
       "min                                 42623.000000   \n",
       "25%                                162833.500000   \n",
       "50%                                179602.000000   \n",
       "75%                                203645.750000   \n",
       "max                                239146.000000   \n",
       "\n",
       "       Cumulative individuals using other vaccines recognised by WHO  \\\n",
       "count                                          80.000000               \n",
       "mean                                        92550.212500               \n",
       "std                                         18985.378822               \n",
       "min                                         24130.000000               \n",
       "25%                                         85373.750000               \n",
       "50%                                         86772.000000               \n",
       "75%                                        106014.750000               \n",
       "max                                        122126.000000               \n",
       "\n",
       "       Number taken booster shots  \n",
       "count                   31.000000  \n",
       "mean                478587.129032  \n",
       "std                 180971.682669  \n",
       "min                 172090.000000  \n",
       "25%                 331327.500000  \n",
       "50%                 487673.000000  \n",
       "75%                 629889.000000  \n",
       "max                 760408.000000  \n",
       "\n",
       "[8 rows x 31 columns]"
      ]
     },
     "execution_count": 5,
     "metadata": {},
     "output_type": "execute_result"
    }
   ],
   "source": [
    "df_new.describe()"
   ]
  },
  {
   "cell_type": "markdown",
   "id": "f6e20a3e",
   "metadata": {},
   "source": [
    "# 2. Clean and Transform Data"
   ]
  },
  {
   "cell_type": "markdown",
   "id": "bbb64e94",
   "metadata": {},
   "source": [
    "## 2.1 Dropping Columns"
   ]
  },
  {
   "cell_type": "markdown",
   "id": "2d8b7caf",
   "metadata": {},
   "source": [
    "'Cumulative Individuals Vaccinated' and 'Cumulative Individuals Vaccination Completed' both add up to 'Cumulative Vaccine Doses'"
   ]
  },
  {
   "cell_type": "code",
   "execution_count": 6,
   "id": "be4aa942",
   "metadata": {},
   "outputs": [],
   "source": [
    "df_new.drop(['Requires Oxygen Supplementation or Unstable','Cumulative Individuals Vaccinated', 'Cumulative Individuals Vaccination Completed','Sinovac vaccine doses','Cumulative individuals using Sinovac vaccine','Doses of other vaccines recognised by WHO','Cumulative individuals using other vaccines recognised by WHO'], axis=1, inplace=True)"
   ]
  },
  {
   "cell_type": "markdown",
   "id": "e0edaf6b",
   "metadata": {},
   "source": [
    "## 2.2 Removing Irregular Values"
   ]
  },
  {
   "cell_type": "markdown",
   "id": "146f55ec",
   "metadata": {},
   "source": [
    "### 2.2.1 Perc population completed at least one dose"
   ]
  },
  {
   "cell_type": "code",
   "execution_count": 7,
   "id": "95bad08a",
   "metadata": {},
   "outputs": [
    {
     "data": {
      "text/plain": [
       "0      NaN\n",
       "1      NaN\n",
       "2      NaN\n",
       "3      NaN\n",
       "4      NaN\n",
       "      ... \n",
       "712    88%\n",
       "713    88%\n",
       "714    88%\n",
       "715    89%\n",
       "716    89%\n",
       "Name: Perc population completed at least one dose, Length: 717, dtype: object"
      ]
     },
     "execution_count": 7,
     "metadata": {},
     "output_type": "execute_result"
    }
   ],
   "source": [
    "df_new['Perc population completed at least one dose']"
   ]
  },
  {
   "cell_type": "code",
   "execution_count": 8,
   "id": "a97ee49e",
   "metadata": {},
   "outputs": [],
   "source": [
    "df_new['Perc population completed at least one dose'] = df_new['Perc population completed at least one dose'].str.replace(\"%\",\"\")"
   ]
  },
  {
   "cell_type": "markdown",
   "id": "f5301729",
   "metadata": {},
   "source": [
    "### 2.2.2 Perc population completed vaccination"
   ]
  },
  {
   "cell_type": "code",
   "execution_count": 9,
   "id": "50d0c9c7",
   "metadata": {},
   "outputs": [
    {
     "data": {
      "text/plain": [
       "0      NaN\n",
       "1      NaN\n",
       "2      NaN\n",
       "3      NaN\n",
       "4      NaN\n",
       "      ... \n",
       "712    87%\n",
       "713    87%\n",
       "714    87%\n",
       "715    87%\n",
       "716    87%\n",
       "Name: Perc population completed vaccination, Length: 717, dtype: object"
      ]
     },
     "execution_count": 9,
     "metadata": {},
     "output_type": "execute_result"
    }
   ],
   "source": [
    "df_new['Perc population completed vaccination']"
   ]
  },
  {
   "cell_type": "code",
   "execution_count": 10,
   "id": "b7de0d57",
   "metadata": {},
   "outputs": [],
   "source": [
    "df_new['Perc population completed vaccination'] = df_new['Perc population completed vaccination'].str.replace(\"%\",\"\")"
   ]
  },
  {
   "cell_type": "markdown",
   "id": "10a1088e",
   "metadata": {},
   "source": [
    "### 2.2.3. Perc population taken booster shots"
   ]
  },
  {
   "cell_type": "code",
   "execution_count": 11,
   "id": "e833f8d8",
   "metadata": {},
   "outputs": [
    {
     "data": {
      "text/plain": [
       "0      NaN\n",
       "1      NaN\n",
       "2      NaN\n",
       "3      NaN\n",
       "4      NaN\n",
       "      ... \n",
       "712    42%\n",
       "713    43%\n",
       "714    44%\n",
       "715    44%\n",
       "716    45%\n",
       "Name: Perc population taken booster shots, Length: 717, dtype: object"
      ]
     },
     "execution_count": 11,
     "metadata": {},
     "output_type": "execute_result"
    }
   ],
   "source": [
    "df_new['Perc population taken booster shots']"
   ]
  },
  {
   "cell_type": "code",
   "execution_count": 12,
   "id": "918951b6",
   "metadata": {},
   "outputs": [],
   "source": [
    "df_new['Perc population taken booster shots'] = df_new['Perc population taken booster shots'].str.replace(\"%\",\"\")"
   ]
  },
  {
   "cell_type": "markdown",
   "id": "a1b818a7",
   "metadata": {},
   "source": [
    "## 2.3 Identifying & Replacing Missing Values"
   ]
  },
  {
   "cell_type": "code",
   "execution_count": 13,
   "id": "d3b54bf5",
   "metadata": {},
   "outputs": [
    {
     "data": {
      "text/plain": [
       "Date                                             0\n",
       "Daily Confirmed                                  0\n",
       "False Positives Found                          109\n",
       "Cumulative Confirmed                             0\n",
       "Daily Discharged                                 0\n",
       "Passed but not due to COVID                      0\n",
       "Cumulative Discharged                            0\n",
       "Discharged to Isolation                          0\n",
       "Still Hospitalised                               0\n",
       "Daily Deaths                                     0\n",
       "Cumulative Deaths                                0\n",
       "Tested positive demise                           0\n",
       "Daily Imported                                   0\n",
       "Daily Local transmission                         0\n",
       "Local cases residing in dorms MOH report        66\n",
       "Local cases not residing in doms MOH report     66\n",
       "Intensive Care Unit (ICU)                        0\n",
       "General Wards MOH report                        57\n",
       "In Isolation MOH report                         57\n",
       "Total Completed Isolation MOH report            58\n",
       "Total Hospital Discharged MOH report            58\n",
       "Linked community cases                         557\n",
       "Unlinked community cases                       557\n",
       "Phase                                           75\n",
       "Cumulative Vaccine Doses                       597\n",
       "Perc population completed at least one dose    556\n",
       "Perc population completed vaccination          556\n",
       "Number taken booster shots                     686\n",
       "Perc population taken booster shots            642\n",
       "dtype: int64"
      ]
     },
     "execution_count": 13,
     "metadata": {},
     "output_type": "execute_result"
    }
   ],
   "source": [
    "# Identifying NULL values of each column\n",
    "df_new.isnull().sum()"
   ]
  },
  {
   "cell_type": "markdown",
   "id": "4ac363d6",
   "metadata": {},
   "source": [
    "### 2.3.1. False Positives Found"
   ]
  },
  {
   "cell_type": "code",
   "execution_count": 14,
   "id": "ca2818d7",
   "metadata": {},
   "outputs": [
    {
     "data": {
      "text/plain": [
       "array([nan, 35.,  0.,  1., 41.])"
      ]
     },
     "execution_count": 14,
     "metadata": {},
     "output_type": "execute_result"
    }
   ],
   "source": [
    "df_new['False Positives Found'].unique()"
   ]
  },
  {
   "cell_type": "code",
   "execution_count": 15,
   "id": "0e85617c",
   "metadata": {
    "scrolled": false
   },
   "outputs": [
    {
     "data": {
      "text/plain": [
       "0.0"
      ]
     },
     "execution_count": 15,
     "metadata": {},
     "output_type": "execute_result"
    }
   ],
   "source": [
    "# Identify median value\n",
    "df_new['False Positives Found'].median()"
   ]
  },
  {
   "cell_type": "code",
   "execution_count": 16,
   "id": "be2c1287",
   "metadata": {},
   "outputs": [],
   "source": [
    "# Reokace np.nan\n",
    "import numpy as np\n",
    "df_new['False Positives Found'].replace(np.nan,0, inplace = True)"
   ]
  },
  {
   "cell_type": "code",
   "execution_count": 17,
   "id": "0f2c441d",
   "metadata": {},
   "outputs": [],
   "source": [
    "df_new['False Positives Found'] = df_new['False Positives Found'].astype(int)"
   ]
  },
  {
   "cell_type": "code",
   "execution_count": 18,
   "id": "9f42de95",
   "metadata": {},
   "outputs": [
    {
     "data": {
      "text/plain": [
       "array([ 0, 35,  1, 41])"
      ]
     },
     "execution_count": 18,
     "metadata": {},
     "output_type": "execute_result"
    }
   ],
   "source": [
    "df_new['False Positives Found'].unique()"
   ]
  },
  {
   "cell_type": "markdown",
   "id": "4494fa61",
   "metadata": {},
   "source": [
    "### 2.3.2. Local cases residing in dorms MOH report"
   ]
  },
  {
   "cell_type": "code",
   "execution_count": 19,
   "id": "21cd38c6",
   "metadata": {
    "scrolled": true
   },
   "outputs": [
    {
     "data": {
      "text/plain": [
       "True"
      ]
     },
     "execution_count": 19,
     "metadata": {},
     "output_type": "execute_result"
    }
   ],
   "source": [
    "df_new['Local cases residing in dorms MOH report'].isnull().values.any()"
   ]
  },
  {
   "cell_type": "code",
   "execution_count": 20,
   "id": "1b01424a",
   "metadata": {},
   "outputs": [
    {
     "data": {
      "text/plain": [
       "5.0"
      ]
     },
     "execution_count": 20,
     "metadata": {},
     "output_type": "execute_result"
    }
   ],
   "source": [
    "df_new['Local cases residing in dorms MOH report'].median()"
   ]
  },
  {
   "cell_type": "code",
   "execution_count": 21,
   "id": "50b28295",
   "metadata": {},
   "outputs": [],
   "source": [
    "df_new['Local cases residing in dorms MOH report'].replace(np.nan,5.0,inplace = True)"
   ]
  },
  {
   "cell_type": "code",
   "execution_count": 22,
   "id": "6c179671",
   "metadata": {},
   "outputs": [
    {
     "data": {
      "text/plain": [
       "False"
      ]
     },
     "execution_count": 22,
     "metadata": {},
     "output_type": "execute_result"
    }
   ],
   "source": [
    "df_new['Local cases residing in dorms MOH report'].isnull().values.any()"
   ]
  },
  {
   "cell_type": "markdown",
   "id": "53bc4b37",
   "metadata": {},
   "source": [
    "### 2.3.3. Local cases not residing in doms MOH report"
   ]
  },
  {
   "cell_type": "code",
   "execution_count": 23,
   "id": "75900f4b",
   "metadata": {},
   "outputs": [
    {
     "data": {
      "text/plain": [
       "True"
      ]
     },
     "execution_count": 23,
     "metadata": {},
     "output_type": "execute_result"
    }
   ],
   "source": [
    "df_new['Local cases not residing in doms MOH report'].isnull().values.any()"
   ]
  },
  {
   "cell_type": "code",
   "execution_count": 24,
   "id": "8a512e58",
   "metadata": {},
   "outputs": [
    {
     "data": {
      "text/plain": [
       "5.0"
      ]
     },
     "execution_count": 24,
     "metadata": {},
     "output_type": "execute_result"
    }
   ],
   "source": [
    "df_new['Local cases not residing in doms MOH report'].median()"
   ]
  },
  {
   "cell_type": "code",
   "execution_count": 25,
   "id": "c1b0c283",
   "metadata": {},
   "outputs": [],
   "source": [
    "df_new['Local cases not residing in doms MOH report'].replace(np.nan,5.0,inplace = True)"
   ]
  },
  {
   "cell_type": "code",
   "execution_count": 26,
   "id": "2d35e6fb",
   "metadata": {},
   "outputs": [
    {
     "data": {
      "text/plain": [
       "False"
      ]
     },
     "execution_count": 26,
     "metadata": {},
     "output_type": "execute_result"
    }
   ],
   "source": [
    "df_new['Local cases not residing in doms MOH report'].isnull().values.any()"
   ]
  },
  {
   "cell_type": "markdown",
   "id": "38cd286e",
   "metadata": {},
   "source": [
    "### 2.3.4. General Wards MOH report"
   ]
  },
  {
   "cell_type": "code",
   "execution_count": 27,
   "id": "62f25bfa",
   "metadata": {
    "scrolled": true
   },
   "outputs": [
    {
     "data": {
      "text/plain": [
       "array([  nan,  238.,  276.,  295.,  340.,  384.,  388.,  404.,  415.,\n",
       "        401.,  437.,  441.,  448.,  474.,  544.,  546.,  598.,  640.,\n",
       "        856.,  845.,  914.,  947., 1131., 1289., 1473., 1866., 2095.,\n",
       "       2538., 2899., 1364., 1381., 1571., 1342., 1205., 1190., 1431.,\n",
       "       1668., 1692., 1687., 1741., 1686., 1608., 1466., 1560., 1439.,\n",
       "       1357., 1223., 1101., 1075., 1069., 1112., 1018., 1052., 1106.,\n",
       "       1095., 1194., 1024.,  994.,  943.,  891.,  790.,  703.,  682.,\n",
       "        599.,  577.,  518.,  503.,  453.,  367.,  313.,  337.,  325.,\n",
       "        329.,  298.,  303.,  304.,  292.,  265.,  245.,  220.,  225.,\n",
       "        237.,  227.,  236.,  241.,  267.,  255.,  223.,  210.,  184.,\n",
       "        178.,  199.,  191.,  188.,  182.,  173.,  183.,  196.,  214.,\n",
       "        208.,  200.,  222.,  202.,  206.,  218.,  181.,  165.,  161.,\n",
       "        159.,  146.,  169.,  170.,  150.,  137.,  157.,  148.,  179.,\n",
       "        185.,  136.,  117.,  109.,  114.,  124.,  125.,  112.,  145.,\n",
       "        135.,  104.,   92.,   91.,   79.,   83.,   82.,   88.,   87.,\n",
       "         75.,   72.,   81.,   76.,   84.,   78.,   65.,   66.,   71.,\n",
       "         70.,   74.,   86.,   52.,   51.,   50.,   48.,   34.,   47.,\n",
       "         49.,   54.,   60.,   53.,   42.,   43.,   38.,   27.,   30.,\n",
       "         36.,   37.,   28.,   25.,   31.,   32.,   41.,   44.,   46.,\n",
       "         39.,   35.,   40.,   45.,   33.,   21.,   29.,   26.,   23.,\n",
       "         20.,   22.,   56.,   55.,   63.,   59.,   24.,   19.,   18.,\n",
       "         17.,   15.,   14.,   16.,   57.,   73.,   69.,   93.,  108.,\n",
       "        110.,  113.,  126.,  131.,  129.,  119.,  132.,  141.,  140.,\n",
       "        147.,  177.,  187.,  205.,  215.,  216.,  250.,  239.,  248.,\n",
       "        240.,  243.,  219.,  221.,  229.,  149.,  151.,  152.,  134.,\n",
       "        139.,  144.,  111.,  101.,   99.,   96.,  195.,  242.,  288.,\n",
       "        331.,  378.,  414.,  445.,  489.,  522.,  549.,  543.,  565.,\n",
       "        569.,  564.,  597.,  582.,  595.,  585.,  548.,  539.,  525.,\n",
       "        534.,  517.,  497.,  500.,  461.,  478.,  442.,  435.,  419.,\n",
       "        398.,  396.,  383.,  373.,  357.,  339.,  332.,  343.,  336.,\n",
       "        363.,  408.,  436.,  458.,  494.,  523.,  575.,  603.,  648.,\n",
       "        631.,  637.,  658.,  657.,  683.,  701.,  773.,  766.,  800.,\n",
       "        813.,  825.,  799.,  852., 1037., 1092., 1064., 1097., 1115.,\n",
       "       1173., 1261., 1295., 1301., 1326., 1322., 1391., 1302., 1320.,\n",
       "       1478., 1483., 1494., 1523., 1529., 1572., 1656., 1577., 1461.,\n",
       "       1465., 1545., 1402., 1585., 1647., 1667., 1651., 1552., 1622.,\n",
       "       1680., 1715., 1720., 1711., 1671., 1555., 1567., 1611., 1655.,\n",
       "       1646., 1596., 1599., 1592., 1590., 1658., 1628., 1540., 1541.,\n",
       "       1502., 1456., 1433., 1404., 1375., 1282., 1307., 1359., 1325.,\n",
       "       1306., 1196., 1181., 1103., 1096., 1048.,  993.,  931.,  881.,\n",
       "        839.,  811.,  803.,  784.,  744.,  626.,  567.,  562.,  545.,\n",
       "        467.,  477.,  430.,  405.,  399.,  394.,  359.,  346.,  286.,\n",
       "        289.,  263.,  249.,  252.,  168.,  171.,  158.,  153.])"
      ]
     },
     "execution_count": 27,
     "metadata": {},
     "output_type": "execute_result"
    }
   ],
   "source": [
    "df_new['General Wards MOH report'].unique()"
   ]
  },
  {
   "cell_type": "code",
   "execution_count": 28,
   "id": "38485fe0",
   "metadata": {},
   "outputs": [
    {
     "data": {
      "text/plain": [
       "157.0"
      ]
     },
     "execution_count": 28,
     "metadata": {},
     "output_type": "execute_result"
    }
   ],
   "source": [
    "df_new['General Wards MOH report'].median()"
   ]
  },
  {
   "cell_type": "code",
   "execution_count": 29,
   "id": "9fa160e5",
   "metadata": {},
   "outputs": [],
   "source": [
    "df_new['General Wards MOH report'].replace(np.nan,157.0,inplace = True)"
   ]
  },
  {
   "cell_type": "code",
   "execution_count": 30,
   "id": "d7553e06",
   "metadata": {},
   "outputs": [
    {
     "data": {
      "text/plain": [
       "False"
      ]
     },
     "execution_count": 30,
     "metadata": {},
     "output_type": "execute_result"
    }
   ],
   "source": [
    "df_new['General Wards MOH report'].isnull().values.any()"
   ]
  },
  {
   "cell_type": "markdown",
   "id": "162d1a3a",
   "metadata": {},
   "source": [
    "### 2.3.5. In Isolation MOH report"
   ]
  },
  {
   "cell_type": "code",
   "execution_count": 31,
   "id": "d0576d95",
   "metadata": {},
   "outputs": [
    {
     "data": {
      "text/plain": [
       "0         NaN\n",
       "1         NaN\n",
       "2         NaN\n",
       "3         NaN\n",
       "4         NaN\n",
       "        ...  \n",
       "712    3669.0\n",
       "713    4015.0\n",
       "714    4449.0\n",
       "715    4892.0\n",
       "716    5372.0\n",
       "Name: In Isolation MOH report, Length: 717, dtype: float64"
      ]
     },
     "execution_count": 31,
     "metadata": {},
     "output_type": "execute_result"
    }
   ],
   "source": [
    "df_new['In Isolation MOH report']"
   ]
  },
  {
   "cell_type": "code",
   "execution_count": 32,
   "id": "d6cff868",
   "metadata": {},
   "outputs": [
    {
     "data": {
      "text/plain": [
       "527.5"
      ]
     },
     "execution_count": 32,
     "metadata": {},
     "output_type": "execute_result"
    }
   ],
   "source": [
    "df_new['In Isolation MOH report'].median()"
   ]
  },
  {
   "cell_type": "code",
   "execution_count": 33,
   "id": "1ac0cbe5",
   "metadata": {},
   "outputs": [],
   "source": [
    "df_new['In Isolation MOH report'].replace(np.nan,527.5,inplace = True)"
   ]
  },
  {
   "cell_type": "markdown",
   "id": "8688556f",
   "metadata": {},
   "source": [
    "### 2.3.6. Total Completed Isolation MOH report"
   ]
  },
  {
   "cell_type": "code",
   "execution_count": 34,
   "id": "cc73d296",
   "metadata": {
    "scrolled": true
   },
   "outputs": [
    {
     "data": {
      "text/plain": [
       "0           NaN\n",
       "1           NaN\n",
       "2           NaN\n",
       "3           NaN\n",
       "4           NaN\n",
       "         ...   \n",
       "712    260685.0\n",
       "713    261128.0\n",
       "714    261504.0\n",
       "715    261826.0\n",
       "716    262137.0\n",
       "Name: Total Completed Isolation MOH report, Length: 717, dtype: float64"
      ]
     },
     "execution_count": 34,
     "metadata": {},
     "output_type": "execute_result"
    }
   ],
   "source": [
    "df_new['Total Completed Isolation MOH report']"
   ]
  },
  {
   "cell_type": "code",
   "execution_count": 35,
   "id": "929d8c87",
   "metadata": {},
   "outputs": [
    {
     "data": {
      "text/plain": [
       "56517.0"
      ]
     },
     "execution_count": 35,
     "metadata": {},
     "output_type": "execute_result"
    }
   ],
   "source": [
    "df_new['Total Completed Isolation MOH report'].median()"
   ]
  },
  {
   "cell_type": "code",
   "execution_count": 36,
   "id": "02653e90",
   "metadata": {},
   "outputs": [],
   "source": [
    "df_new['Total Completed Isolation MOH report'].replace(np.nan,56517.0,inplace = True)"
   ]
  },
  {
   "cell_type": "markdown",
   "id": "229bd876",
   "metadata": {},
   "source": [
    "### 2.3.7. Total Hospital Discharged MOH report"
   ]
  },
  {
   "cell_type": "code",
   "execution_count": 37,
   "id": "94783756",
   "metadata": {
    "scrolled": true
   },
   "outputs": [
    {
     "data": {
      "text/plain": [
       "0          NaN\n",
       "1          NaN\n",
       "2          NaN\n",
       "3          NaN\n",
       "4          NaN\n",
       "        ...   \n",
       "712    16229.0\n",
       "713    16239.0\n",
       "714    16255.0\n",
       "715    16271.0\n",
       "716    16296.0\n",
       "Name: Total Hospital Discharged MOH report, Length: 717, dtype: float64"
      ]
     },
     "execution_count": 37,
     "metadata": {},
     "output_type": "execute_result"
    }
   ],
   "source": [
    "df_new['Total Hospital Discharged MOH report']"
   ]
  },
  {
   "cell_type": "code",
   "execution_count": 38,
   "id": "7d485c39",
   "metadata": {},
   "outputs": [
    {
     "data": {
      "text/plain": [
       "3083.0"
      ]
     },
     "execution_count": 38,
     "metadata": {},
     "output_type": "execute_result"
    }
   ],
   "source": [
    "df_new['Total Hospital Discharged MOH report'].median()"
   ]
  },
  {
   "cell_type": "code",
   "execution_count": 39,
   "id": "7e1a3988",
   "metadata": {},
   "outputs": [],
   "source": [
    "df_new['Total Hospital Discharged MOH report'].replace(np.nan,3083.0,inplace = True)"
   ]
  },
  {
   "cell_type": "markdown",
   "id": "20051bf4",
   "metadata": {},
   "source": [
    "### 2.3.8. Linked community cases"
   ]
  },
  {
   "cell_type": "code",
   "execution_count": 40,
   "id": "a0aad9e4",
   "metadata": {
    "scrolled": true
   },
   "outputs": [
    {
     "data": {
      "text/plain": [
       "0     NaN\n",
       "1     NaN\n",
       "2     NaN\n",
       "3     NaN\n",
       "4     NaN\n",
       "       ..\n",
       "712   NaN\n",
       "713   NaN\n",
       "714   NaN\n",
       "715   NaN\n",
       "716   NaN\n",
       "Name: Linked community cases, Length: 717, dtype: float64"
      ]
     },
     "execution_count": 40,
     "metadata": {},
     "output_type": "execute_result"
    }
   ],
   "source": [
    "df_new['Linked community cases']"
   ]
  },
  {
   "cell_type": "code",
   "execution_count": 41,
   "id": "71eb3abe",
   "metadata": {},
   "outputs": [
    {
     "data": {
      "text/plain": [
       "12.0"
      ]
     },
     "execution_count": 41,
     "metadata": {},
     "output_type": "execute_result"
    }
   ],
   "source": [
    "df_new['Linked community cases'].median()"
   ]
  },
  {
   "cell_type": "code",
   "execution_count": 42,
   "id": "689a855d",
   "metadata": {},
   "outputs": [],
   "source": [
    "df_new['Linked community cases'].replace(np.nan,12.0,inplace = True)"
   ]
  },
  {
   "cell_type": "markdown",
   "id": "36cc2b07",
   "metadata": {},
   "source": [
    "### 2.2.9. Unlinked community cases"
   ]
  },
  {
   "cell_type": "code",
   "execution_count": 43,
   "id": "3b08e0c2",
   "metadata": {
    "scrolled": true
   },
   "outputs": [
    {
     "data": {
      "text/plain": [
       "0     NaN\n",
       "1     NaN\n",
       "2     NaN\n",
       "3     NaN\n",
       "4     NaN\n",
       "       ..\n",
       "712   NaN\n",
       "713   NaN\n",
       "714   NaN\n",
       "715   NaN\n",
       "716   NaN\n",
       "Name: Unlinked community cases, Length: 717, dtype: float64"
      ]
     },
     "execution_count": 43,
     "metadata": {},
     "output_type": "execute_result"
    }
   ],
   "source": [
    "df_new['Unlinked community cases']"
   ]
  },
  {
   "cell_type": "code",
   "execution_count": 44,
   "id": "93d51ec2",
   "metadata": {},
   "outputs": [
    {
     "data": {
      "text/plain": [
       "3.5"
      ]
     },
     "execution_count": 44,
     "metadata": {},
     "output_type": "execute_result"
    }
   ],
   "source": [
    "df_new['Unlinked community cases'].median()"
   ]
  },
  {
   "cell_type": "code",
   "execution_count": 45,
   "id": "0b9aca05",
   "metadata": {},
   "outputs": [],
   "source": [
    "df_new['Unlinked community cases'].replace(np.nan,3.5,inplace = True)"
   ]
  },
  {
   "cell_type": "markdown",
   "id": "7359cfbe",
   "metadata": {},
   "source": [
    "### 2.3.10. Phase"
   ]
  },
  {
   "cell_type": "markdown",
   "id": "07d65209",
   "metadata": {},
   "source": [
    "All empty values were found before the date of 6/4/2020 (inclusive) as there was no particular 'phase' given. In this case, I will indicate it as 'Early Stage'"
   ]
  },
  {
   "cell_type": "code",
   "execution_count": 46,
   "id": "e04be4f4",
   "metadata": {},
   "outputs": [],
   "source": [
    "df_new['Phase'].replace(np.nan,'Early Stage',inplace=True)"
   ]
  },
  {
   "cell_type": "code",
   "execution_count": 47,
   "id": "aa4d72da",
   "metadata": {},
   "outputs": [
    {
     "data": {
      "text/plain": [
       "False"
      ]
     },
     "execution_count": 47,
     "metadata": {},
     "output_type": "execute_result"
    }
   ],
   "source": [
    "df_new['Phase'].isnull().values.any()"
   ]
  },
  {
   "cell_type": "markdown",
   "id": "7c1fc75a",
   "metadata": {},
   "source": [
    "### 2.3.11. Cumulative Vaccine Doses"
   ]
  },
  {
   "cell_type": "code",
   "execution_count": 48,
   "id": "0609fcec",
   "metadata": {},
   "outputs": [
    {
     "data": {
      "text/plain": [
       "True"
      ]
     },
     "execution_count": 48,
     "metadata": {},
     "output_type": "execute_result"
    }
   ],
   "source": [
    "df_new['Cumulative Vaccine Doses'].isnull().values.any()"
   ]
  },
  {
   "cell_type": "code",
   "execution_count": 49,
   "id": "ca5d9b9c",
   "metadata": {},
   "outputs": [
    {
     "data": {
      "text/plain": [
       "8689759.0"
      ]
     },
     "execution_count": 49,
     "metadata": {},
     "output_type": "execute_result"
    }
   ],
   "source": [
    "df_new['Cumulative Vaccine Doses'].median()"
   ]
  },
  {
   "cell_type": "code",
   "execution_count": 50,
   "id": "e11e2266",
   "metadata": {},
   "outputs": [],
   "source": [
    "df_new['Cumulative Vaccine Doses'].replace(np.nan,8689759.0,inplace=True)"
   ]
  },
  {
   "cell_type": "markdown",
   "id": "30275412",
   "metadata": {},
   "source": [
    "### 2.3.12. Perc population completed at least one dose"
   ]
  },
  {
   "cell_type": "code",
   "execution_count": 51,
   "id": "4ef1af73",
   "metadata": {},
   "outputs": [
    {
     "data": {
      "text/plain": [
       "True"
      ]
     },
     "execution_count": 51,
     "metadata": {},
     "output_type": "execute_result"
    }
   ],
   "source": [
    "df_new['Perc population completed at least one dose'].isnull().values.any()"
   ]
  },
  {
   "cell_type": "code",
   "execution_count": 52,
   "id": "6127c7e0",
   "metadata": {},
   "outputs": [
    {
     "name": "stderr",
     "output_type": "stream",
     "text": [
      "C:\\Users\\Samantha\\AppData\\Local\\Temp\\ipykernel_18496\\1895601996.py:2: SettingWithCopyWarning: \n",
      "A value is trying to be set on a copy of a slice from a DataFrame.\n",
      "Try using .loc[row_indexer,col_indexer] = value instead\n",
      "\n",
      "See the caveats in the documentation: https://pandas.pydata.org/pandas-docs/stable/user_guide/indexing.html#returning-a-view-versus-a-copy\n",
      "  df_new[df_new['Perc population completed at least one dose'].notnull()]['Perc population completed at least one dose'] = df_new[df_new['Perc population completed at least one dose'].notnull()]['Perc population completed at least one dose'].astype(int)\n"
     ]
    }
   ],
   "source": [
    "# Convert all non-null values to integer\n",
    "df_new[df_new['Perc population completed at least one dose'].notnull()]['Perc population completed at least one dose'] = df_new[df_new['Perc population completed at least one dose'].notnull()]['Perc population completed at least one dose'].astype(int)"
   ]
  },
  {
   "cell_type": "code",
   "execution_count": 53,
   "id": "2f36ade1",
   "metadata": {
    "scrolled": true
   },
   "outputs": [
    {
     "data": {
      "text/plain": [
       "85.0"
      ]
     },
     "execution_count": 53,
     "metadata": {},
     "output_type": "execute_result"
    }
   ],
   "source": [
    "df_new['Perc population completed at least one dose'].median()"
   ]
  },
  {
   "cell_type": "code",
   "execution_count": 54,
   "id": "d87a4adc",
   "metadata": {},
   "outputs": [],
   "source": [
    "# Reokace null values with median value\n",
    "df_new['Perc population completed at least one dose'].replace(np.nan,85,inplace=True)"
   ]
  },
  {
   "cell_type": "code",
   "execution_count": 55,
   "id": "c4db4ffa",
   "metadata": {},
   "outputs": [],
   "source": [
    "# Convert new values to integer\n",
    "df_new['Perc population completed at least one dose'] = df_new['Perc population completed at least one dose'].astype(int)"
   ]
  },
  {
   "cell_type": "code",
   "execution_count": 56,
   "id": "b80f9e8a",
   "metadata": {},
   "outputs": [
    {
     "data": {
      "text/plain": [
       "0      85\n",
       "1      85\n",
       "2      85\n",
       "3      85\n",
       "4      85\n",
       "       ..\n",
       "712    88\n",
       "713    88\n",
       "714    88\n",
       "715    89\n",
       "716    89\n",
       "Name: Perc population completed at least one dose, Length: 717, dtype: int32"
      ]
     },
     "execution_count": 56,
     "metadata": {},
     "output_type": "execute_result"
    }
   ],
   "source": [
    "df_new['Perc population completed at least one dose']"
   ]
  },
  {
   "cell_type": "markdown",
   "id": "deeefa7e",
   "metadata": {},
   "source": [
    "### 2.3.13. Perc population completed vaccination"
   ]
  },
  {
   "cell_type": "code",
   "execution_count": 57,
   "id": "e888acb0",
   "metadata": {},
   "outputs": [
    {
     "data": {
      "text/plain": [
       "True"
      ]
     },
     "execution_count": 57,
     "metadata": {},
     "output_type": "execute_result"
    }
   ],
   "source": [
    "df_new['Perc population completed vaccination'].isnull().values.any()"
   ]
  },
  {
   "cell_type": "code",
   "execution_count": 58,
   "id": "2c6e638f",
   "metadata": {},
   "outputs": [],
   "source": [
    "# Convert all non-null values to integer\n",
    "df_new[df_new['Perc population completed at least one dose'].notnull()]['Perc population completed at least one dose'] = df_new[df_new['Perc population completed vaccination'].notnull()]['Perc population completed vaccination'].astype(int)"
   ]
  },
  {
   "cell_type": "code",
   "execution_count": 59,
   "id": "61e5fc19",
   "metadata": {
    "scrolled": true
   },
   "outputs": [
    {
     "data": {
      "text/plain": [
       "84.0"
      ]
     },
     "execution_count": 59,
     "metadata": {},
     "output_type": "execute_result"
    }
   ],
   "source": [
    "df_new['Perc population completed vaccination'].median()"
   ]
  },
  {
   "cell_type": "code",
   "execution_count": 60,
   "id": "d8c5ca90",
   "metadata": {},
   "outputs": [],
   "source": [
    "# Reokace null values with median value\n",
    "df_new['Perc population completed vaccination'].replace(np.nan,84,inplace=True)"
   ]
  },
  {
   "cell_type": "code",
   "execution_count": 61,
   "id": "03f1840f",
   "metadata": {},
   "outputs": [],
   "source": [
    "# Convert new values to integer\n",
    "df_new['Perc population completed vaccination'] = df_new['Perc population completed vaccination'].astype(int)"
   ]
  },
  {
   "cell_type": "code",
   "execution_count": 62,
   "id": "ad461f90",
   "metadata": {},
   "outputs": [
    {
     "data": {
      "text/plain": [
       "0      84\n",
       "1      84\n",
       "2      84\n",
       "3      84\n",
       "4      84\n",
       "       ..\n",
       "712    87\n",
       "713    87\n",
       "714    87\n",
       "715    87\n",
       "716    87\n",
       "Name: Perc population completed vaccination, Length: 717, dtype: int32"
      ]
     },
     "execution_count": 62,
     "metadata": {},
     "output_type": "execute_result"
    }
   ],
   "source": [
    "df_new['Perc population completed vaccination']"
   ]
  },
  {
   "cell_type": "markdown",
   "id": "311d2305",
   "metadata": {},
   "source": [
    "### 2.3.14. Number taken booster shots"
   ]
  },
  {
   "cell_type": "code",
   "execution_count": 63,
   "id": "d2498a60",
   "metadata": {},
   "outputs": [
    {
     "data": {
      "text/plain": [
       "array([    nan, 172090., 196211., 215729., 236849., 258043., 279787.,\n",
       "       299155., 321228., 341427., 357247., 371953., 392555., 411447.,\n",
       "       438493., 465204., 487673., 506552., 525212., 554004., 577069.,\n",
       "       588596., 604552., 622452., 637326., 655029., 680979., 699542.,\n",
       "       709525., 724762., 745102., 760408.])"
      ]
     },
     "execution_count": 63,
     "metadata": {},
     "output_type": "execute_result"
    }
   ],
   "source": [
    "df_new['Number taken booster shots'].unique()"
   ]
  },
  {
   "cell_type": "code",
   "execution_count": 64,
   "id": "20361efd",
   "metadata": {},
   "outputs": [
    {
     "data": {
      "text/plain": [
       "487673.0"
      ]
     },
     "execution_count": 64,
     "metadata": {},
     "output_type": "execute_result"
    }
   ],
   "source": [
    "df_new['Number taken booster shots'].median()"
   ]
  },
  {
   "cell_type": "code",
   "execution_count": 65,
   "id": "558fd487",
   "metadata": {},
   "outputs": [],
   "source": [
    "df_new['Number taken booster shots'].replace(np.nan, 487673.0, inplace=True)"
   ]
  },
  {
   "cell_type": "markdown",
   "id": "6769043a",
   "metadata": {},
   "source": [
    "### 2.3.15. Perc population taken booster shots"
   ]
  },
  {
   "cell_type": "code",
   "execution_count": 66,
   "id": "6d467de7",
   "metadata": {},
   "outputs": [
    {
     "data": {
      "text/plain": [
       "array([nan, '13', '14', '15', '16', '17', '18', '19', '20', '21', '22',\n",
       "       '23', '24', '25', '26', '27', '28', '29', '30', '31', '32', '33',\n",
       "       '34', '35', '36', '37', '38', '39', '40', '41', '42', '43', '44',\n",
       "       '45'], dtype=object)"
      ]
     },
     "execution_count": 66,
     "metadata": {},
     "output_type": "execute_result"
    }
   ],
   "source": [
    "df_new['Perc population taken booster shots'].unique()"
   ]
  },
  {
   "cell_type": "code",
   "execution_count": 67,
   "id": "c1566b66",
   "metadata": {},
   "outputs": [
    {
     "name": "stderr",
     "output_type": "stream",
     "text": [
      "C:\\Users\\Samantha\\AppData\\Local\\Temp\\ipykernel_18496\\592310317.py:2: SettingWithCopyWarning: \n",
      "A value is trying to be set on a copy of a slice from a DataFrame.\n",
      "Try using .loc[row_indexer,col_indexer] = value instead\n",
      "\n",
      "See the caveats in the documentation: https://pandas.pydata.org/pandas-docs/stable/user_guide/indexing.html#returning-a-view-versus-a-copy\n",
      "  df_new[df_new['Perc population taken booster shots'].notnull()]['Perc population taken booster shots'] = df_new[df_new['Perc population taken booster shots'].notnull()]['Perc population taken booster shots'].astype(int)\n"
     ]
    }
   ],
   "source": [
    "# Convert all non-null values to integer\n",
    "df_new[df_new['Perc population taken booster shots'].notnull()]['Perc population taken booster shots'] = df_new[df_new['Perc population taken booster shots'].notnull()]['Perc population taken booster shots'].astype(int)"
   ]
  },
  {
   "cell_type": "code",
   "execution_count": 68,
   "id": "5fa04d8c",
   "metadata": {},
   "outputs": [
    {
     "data": {
      "text/plain": [
       "27.0"
      ]
     },
     "execution_count": 68,
     "metadata": {},
     "output_type": "execute_result"
    }
   ],
   "source": [
    "df_new['Perc population taken booster shots'].median()"
   ]
  },
  {
   "cell_type": "code",
   "execution_count": 69,
   "id": "6a620413",
   "metadata": {},
   "outputs": [],
   "source": [
    "df_new['Perc population taken booster shots'].replace(np.nan,27,inplace=True)"
   ]
  },
  {
   "cell_type": "code",
   "execution_count": 70,
   "id": "8900841b",
   "metadata": {},
   "outputs": [
    {
     "data": {
      "text/plain": [
       "Date                                           0\n",
       "Daily Confirmed                                0\n",
       "False Positives Found                          0\n",
       "Cumulative Confirmed                           0\n",
       "Daily Discharged                               0\n",
       "Passed but not due to COVID                    0\n",
       "Cumulative Discharged                          0\n",
       "Discharged to Isolation                        0\n",
       "Still Hospitalised                             0\n",
       "Daily Deaths                                   0\n",
       "Cumulative Deaths                              0\n",
       "Tested positive demise                         0\n",
       "Daily Imported                                 0\n",
       "Daily Local transmission                       0\n",
       "Local cases residing in dorms MOH report       0\n",
       "Local cases not residing in doms MOH report    0\n",
       "Intensive Care Unit (ICU)                      0\n",
       "General Wards MOH report                       0\n",
       "In Isolation MOH report                        0\n",
       "Total Completed Isolation MOH report           0\n",
       "Total Hospital Discharged MOH report           0\n",
       "Linked community cases                         0\n",
       "Unlinked community cases                       0\n",
       "Phase                                          0\n",
       "Cumulative Vaccine Doses                       0\n",
       "Perc population completed at least one dose    0\n",
       "Perc population completed vaccination          0\n",
       "Number taken booster shots                     0\n",
       "Perc population taken booster shots            0\n",
       "dtype: int64"
      ]
     },
     "execution_count": 70,
     "metadata": {},
     "output_type": "execute_result"
    }
   ],
   "source": [
    "# Identifying NULL values of each column\n",
    "df_new.isnull().sum()"
   ]
  },
  {
   "cell_type": "markdown",
   "id": "eb000014",
   "metadata": {},
   "source": [
    "# 3. Export Cleansed Data"
   ]
  },
  {
   "cell_type": "code",
   "execution_count": 71,
   "id": "412d2001",
   "metadata": {},
   "outputs": [
    {
     "data": {
      "text/html": [
       "<div>\n",
       "<style scoped>\n",
       "    .dataframe tbody tr th:only-of-type {\n",
       "        vertical-align: middle;\n",
       "    }\n",
       "\n",
       "    .dataframe tbody tr th {\n",
       "        vertical-align: top;\n",
       "    }\n",
       "\n",
       "    .dataframe thead th {\n",
       "        text-align: right;\n",
       "    }\n",
       "</style>\n",
       "<table border=\"1\" class=\"dataframe\">\n",
       "  <thead>\n",
       "    <tr style=\"text-align: right;\">\n",
       "      <th></th>\n",
       "      <th>Date</th>\n",
       "      <th>Daily Confirmed</th>\n",
       "      <th>False Positives Found</th>\n",
       "      <th>Cumulative Confirmed</th>\n",
       "      <th>Daily Discharged</th>\n",
       "      <th>Passed but not due to COVID</th>\n",
       "      <th>Cumulative Discharged</th>\n",
       "      <th>Discharged to Isolation</th>\n",
       "      <th>Still Hospitalised</th>\n",
       "      <th>Daily Deaths</th>\n",
       "      <th>...</th>\n",
       "      <th>Total Completed Isolation MOH report</th>\n",
       "      <th>Total Hospital Discharged MOH report</th>\n",
       "      <th>Linked community cases</th>\n",
       "      <th>Unlinked community cases</th>\n",
       "      <th>Phase</th>\n",
       "      <th>Cumulative Vaccine Doses</th>\n",
       "      <th>Perc population completed at least one dose</th>\n",
       "      <th>Perc population completed vaccination</th>\n",
       "      <th>Number taken booster shots</th>\n",
       "      <th>Perc population taken booster shots</th>\n",
       "    </tr>\n",
       "  </thead>\n",
       "  <tbody>\n",
       "    <tr>\n",
       "      <th>0</th>\n",
       "      <td>2020-01-23</td>\n",
       "      <td>1</td>\n",
       "      <td>0</td>\n",
       "      <td>1</td>\n",
       "      <td>0</td>\n",
       "      <td>0</td>\n",
       "      <td>0</td>\n",
       "      <td>0</td>\n",
       "      <td>1</td>\n",
       "      <td>0</td>\n",
       "      <td>...</td>\n",
       "      <td>56517.0</td>\n",
       "      <td>3083.0</td>\n",
       "      <td>12.0</td>\n",
       "      <td>3.5</td>\n",
       "      <td>Early Stage</td>\n",
       "      <td>8689759.0</td>\n",
       "      <td>85</td>\n",
       "      <td>84</td>\n",
       "      <td>487673.0</td>\n",
       "      <td>27</td>\n",
       "    </tr>\n",
       "    <tr>\n",
       "      <th>1</th>\n",
       "      <td>2020-01-24</td>\n",
       "      <td>2</td>\n",
       "      <td>0</td>\n",
       "      <td>3</td>\n",
       "      <td>0</td>\n",
       "      <td>0</td>\n",
       "      <td>0</td>\n",
       "      <td>0</td>\n",
       "      <td>3</td>\n",
       "      <td>0</td>\n",
       "      <td>...</td>\n",
       "      <td>56517.0</td>\n",
       "      <td>3083.0</td>\n",
       "      <td>12.0</td>\n",
       "      <td>3.5</td>\n",
       "      <td>Early Stage</td>\n",
       "      <td>8689759.0</td>\n",
       "      <td>85</td>\n",
       "      <td>84</td>\n",
       "      <td>487673.0</td>\n",
       "      <td>27</td>\n",
       "    </tr>\n",
       "    <tr>\n",
       "      <th>2</th>\n",
       "      <td>2020-01-25</td>\n",
       "      <td>1</td>\n",
       "      <td>0</td>\n",
       "      <td>4</td>\n",
       "      <td>0</td>\n",
       "      <td>0</td>\n",
       "      <td>0</td>\n",
       "      <td>0</td>\n",
       "      <td>4</td>\n",
       "      <td>0</td>\n",
       "      <td>...</td>\n",
       "      <td>56517.0</td>\n",
       "      <td>3083.0</td>\n",
       "      <td>12.0</td>\n",
       "      <td>3.5</td>\n",
       "      <td>Early Stage</td>\n",
       "      <td>8689759.0</td>\n",
       "      <td>85</td>\n",
       "      <td>84</td>\n",
       "      <td>487673.0</td>\n",
       "      <td>27</td>\n",
       "    </tr>\n",
       "    <tr>\n",
       "      <th>3</th>\n",
       "      <td>2020-01-26</td>\n",
       "      <td>0</td>\n",
       "      <td>0</td>\n",
       "      <td>4</td>\n",
       "      <td>0</td>\n",
       "      <td>0</td>\n",
       "      <td>0</td>\n",
       "      <td>0</td>\n",
       "      <td>4</td>\n",
       "      <td>0</td>\n",
       "      <td>...</td>\n",
       "      <td>56517.0</td>\n",
       "      <td>3083.0</td>\n",
       "      <td>12.0</td>\n",
       "      <td>3.5</td>\n",
       "      <td>Early Stage</td>\n",
       "      <td>8689759.0</td>\n",
       "      <td>85</td>\n",
       "      <td>84</td>\n",
       "      <td>487673.0</td>\n",
       "      <td>27</td>\n",
       "    </tr>\n",
       "    <tr>\n",
       "      <th>4</th>\n",
       "      <td>2020-01-27</td>\n",
       "      <td>1</td>\n",
       "      <td>0</td>\n",
       "      <td>5</td>\n",
       "      <td>0</td>\n",
       "      <td>0</td>\n",
       "      <td>0</td>\n",
       "      <td>0</td>\n",
       "      <td>5</td>\n",
       "      <td>0</td>\n",
       "      <td>...</td>\n",
       "      <td>56517.0</td>\n",
       "      <td>3083.0</td>\n",
       "      <td>12.0</td>\n",
       "      <td>3.5</td>\n",
       "      <td>Early Stage</td>\n",
       "      <td>8689759.0</td>\n",
       "      <td>85</td>\n",
       "      <td>84</td>\n",
       "      <td>487673.0</td>\n",
       "      <td>27</td>\n",
       "    </tr>\n",
       "    <tr>\n",
       "      <th>...</th>\n",
       "      <td>...</td>\n",
       "      <td>...</td>\n",
       "      <td>...</td>\n",
       "      <td>...</td>\n",
       "      <td>...</td>\n",
       "      <td>...</td>\n",
       "      <td>...</td>\n",
       "      <td>...</td>\n",
       "      <td>...</td>\n",
       "      <td>...</td>\n",
       "      <td>...</td>\n",
       "      <td>...</td>\n",
       "      <td>...</td>\n",
       "      <td>...</td>\n",
       "      <td>...</td>\n",
       "      <td>...</td>\n",
       "      <td>...</td>\n",
       "      <td>...</td>\n",
       "      <td>...</td>\n",
       "      <td>...</td>\n",
       "      <td>...</td>\n",
       "    </tr>\n",
       "    <tr>\n",
       "      <th>712</th>\n",
       "      <td>2022-01-04</td>\n",
       "      <td>842</td>\n",
       "      <td>0</td>\n",
       "      <td>281596</td>\n",
       "      <td>271</td>\n",
       "      <td>0</td>\n",
       "      <td>276936</td>\n",
       "      <td>3669</td>\n",
       "      <td>151</td>\n",
       "      <td>3</td>\n",
       "      <td>...</td>\n",
       "      <td>260685.0</td>\n",
       "      <td>16229.0</td>\n",
       "      <td>12.0</td>\n",
       "      <td>3.5</td>\n",
       "      <td>Transition Phase</td>\n",
       "      <td>8689759.0</td>\n",
       "      <td>88</td>\n",
       "      <td>87</td>\n",
       "      <td>487673.0</td>\n",
       "      <td>42</td>\n",
       "    </tr>\n",
       "    <tr>\n",
       "      <th>713</th>\n",
       "      <td>2022-01-05</td>\n",
       "      <td>805</td>\n",
       "      <td>0</td>\n",
       "      <td>282401</td>\n",
       "      <td>453</td>\n",
       "      <td>0</td>\n",
       "      <td>277389</td>\n",
       "      <td>4015</td>\n",
       "      <td>155</td>\n",
       "      <td>2</td>\n",
       "      <td>...</td>\n",
       "      <td>261128.0</td>\n",
       "      <td>16239.0</td>\n",
       "      <td>12.0</td>\n",
       "      <td>3.5</td>\n",
       "      <td>Transition Phase</td>\n",
       "      <td>8689759.0</td>\n",
       "      <td>88</td>\n",
       "      <td>87</td>\n",
       "      <td>487673.0</td>\n",
       "      <td>43</td>\n",
       "    </tr>\n",
       "    <tr>\n",
       "      <th>714</th>\n",
       "      <td>2022-01-06</td>\n",
       "      <td>813</td>\n",
       "      <td>0</td>\n",
       "      <td>283214</td>\n",
       "      <td>392</td>\n",
       "      <td>0</td>\n",
       "      <td>277781</td>\n",
       "      <td>4449</td>\n",
       "      <td>141</td>\n",
       "      <td>1</td>\n",
       "      <td>...</td>\n",
       "      <td>261504.0</td>\n",
       "      <td>16255.0</td>\n",
       "      <td>12.0</td>\n",
       "      <td>3.5</td>\n",
       "      <td>Transition Phase</td>\n",
       "      <td>8689759.0</td>\n",
       "      <td>88</td>\n",
       "      <td>87</td>\n",
       "      <td>487673.0</td>\n",
       "      <td>44</td>\n",
       "    </tr>\n",
       "    <tr>\n",
       "      <th>715</th>\n",
       "      <td>2022-01-07</td>\n",
       "      <td>777</td>\n",
       "      <td>0</td>\n",
       "      <td>283991</td>\n",
       "      <td>338</td>\n",
       "      <td>0</td>\n",
       "      <td>278119</td>\n",
       "      <td>4892</td>\n",
       "      <td>135</td>\n",
       "      <td>2</td>\n",
       "      <td>...</td>\n",
       "      <td>261826.0</td>\n",
       "      <td>16271.0</td>\n",
       "      <td>12.0</td>\n",
       "      <td>3.5</td>\n",
       "      <td>Transition Phase</td>\n",
       "      <td>8689759.0</td>\n",
       "      <td>89</td>\n",
       "      <td>87</td>\n",
       "      <td>487673.0</td>\n",
       "      <td>44</td>\n",
       "    </tr>\n",
       "    <tr>\n",
       "      <th>716</th>\n",
       "      <td>2022-01-08</td>\n",
       "      <td>811</td>\n",
       "      <td>0</td>\n",
       "      <td>284802</td>\n",
       "      <td>336</td>\n",
       "      <td>0</td>\n",
       "      <td>278455</td>\n",
       "      <td>5372</td>\n",
       "      <td>130</td>\n",
       "      <td>0</td>\n",
       "      <td>...</td>\n",
       "      <td>262137.0</td>\n",
       "      <td>16296.0</td>\n",
       "      <td>12.0</td>\n",
       "      <td>3.5</td>\n",
       "      <td>Transition Phase</td>\n",
       "      <td>8689759.0</td>\n",
       "      <td>89</td>\n",
       "      <td>87</td>\n",
       "      <td>487673.0</td>\n",
       "      <td>45</td>\n",
       "    </tr>\n",
       "  </tbody>\n",
       "</table>\n",
       "<p>717 rows × 29 columns</p>\n",
       "</div>"
      ],
      "text/plain": [
       "           Date  Daily Confirmed  False Positives Found  Cumulative Confirmed  \\\n",
       "0    2020-01-23                1                      0                     1   \n",
       "1    2020-01-24                2                      0                     3   \n",
       "2    2020-01-25                1                      0                     4   \n",
       "3    2020-01-26                0                      0                     4   \n",
       "4    2020-01-27                1                      0                     5   \n",
       "..          ...              ...                    ...                   ...   \n",
       "712  2022-01-04              842                      0                281596   \n",
       "713  2022-01-05              805                      0                282401   \n",
       "714  2022-01-06              813                      0                283214   \n",
       "715  2022-01-07              777                      0                283991   \n",
       "716  2022-01-08              811                      0                284802   \n",
       "\n",
       "     Daily Discharged  Passed but not due to COVID  Cumulative Discharged  \\\n",
       "0                   0                            0                      0   \n",
       "1                   0                            0                      0   \n",
       "2                   0                            0                      0   \n",
       "3                   0                            0                      0   \n",
       "4                   0                            0                      0   \n",
       "..                ...                          ...                    ...   \n",
       "712               271                            0                 276936   \n",
       "713               453                            0                 277389   \n",
       "714               392                            0                 277781   \n",
       "715               338                            0                 278119   \n",
       "716               336                            0                 278455   \n",
       "\n",
       "     Discharged to Isolation  Still Hospitalised  Daily Deaths  ...  \\\n",
       "0                          0                   1             0  ...   \n",
       "1                          0                   3             0  ...   \n",
       "2                          0                   4             0  ...   \n",
       "3                          0                   4             0  ...   \n",
       "4                          0                   5             0  ...   \n",
       "..                       ...                 ...           ...  ...   \n",
       "712                     3669                 151             3  ...   \n",
       "713                     4015                 155             2  ...   \n",
       "714                     4449                 141             1  ...   \n",
       "715                     4892                 135             2  ...   \n",
       "716                     5372                 130             0  ...   \n",
       "\n",
       "     Total Completed Isolation MOH report  \\\n",
       "0                                 56517.0   \n",
       "1                                 56517.0   \n",
       "2                                 56517.0   \n",
       "3                                 56517.0   \n",
       "4                                 56517.0   \n",
       "..                                    ...   \n",
       "712                              260685.0   \n",
       "713                              261128.0   \n",
       "714                              261504.0   \n",
       "715                              261826.0   \n",
       "716                              262137.0   \n",
       "\n",
       "     Total Hospital Discharged MOH report  Linked community cases  \\\n",
       "0                                  3083.0                    12.0   \n",
       "1                                  3083.0                    12.0   \n",
       "2                                  3083.0                    12.0   \n",
       "3                                  3083.0                    12.0   \n",
       "4                                  3083.0                    12.0   \n",
       "..                                    ...                     ...   \n",
       "712                               16229.0                    12.0   \n",
       "713                               16239.0                    12.0   \n",
       "714                               16255.0                    12.0   \n",
       "715                               16271.0                    12.0   \n",
       "716                               16296.0                    12.0   \n",
       "\n",
       "     Unlinked community cases             Phase  Cumulative Vaccine Doses  \\\n",
       "0                         3.5       Early Stage                 8689759.0   \n",
       "1                         3.5       Early Stage                 8689759.0   \n",
       "2                         3.5       Early Stage                 8689759.0   \n",
       "3                         3.5       Early Stage                 8689759.0   \n",
       "4                         3.5       Early Stage                 8689759.0   \n",
       "..                        ...               ...                       ...   \n",
       "712                       3.5  Transition Phase                 8689759.0   \n",
       "713                       3.5  Transition Phase                 8689759.0   \n",
       "714                       3.5  Transition Phase                 8689759.0   \n",
       "715                       3.5  Transition Phase                 8689759.0   \n",
       "716                       3.5  Transition Phase                 8689759.0   \n",
       "\n",
       "     Perc population completed at least one dose  \\\n",
       "0                                             85   \n",
       "1                                             85   \n",
       "2                                             85   \n",
       "3                                             85   \n",
       "4                                             85   \n",
       "..                                           ...   \n",
       "712                                           88   \n",
       "713                                           88   \n",
       "714                                           88   \n",
       "715                                           89   \n",
       "716                                           89   \n",
       "\n",
       "     Perc population completed vaccination  Number taken booster shots  \\\n",
       "0                                       84                    487673.0   \n",
       "1                                       84                    487673.0   \n",
       "2                                       84                    487673.0   \n",
       "3                                       84                    487673.0   \n",
       "4                                       84                    487673.0   \n",
       "..                                     ...                         ...   \n",
       "712                                     87                    487673.0   \n",
       "713                                     87                    487673.0   \n",
       "714                                     87                    487673.0   \n",
       "715                                     87                    487673.0   \n",
       "716                                     87                    487673.0   \n",
       "\n",
       "     Perc population taken booster shots  \n",
       "0                                     27  \n",
       "1                                     27  \n",
       "2                                     27  \n",
       "3                                     27  \n",
       "4                                     27  \n",
       "..                                   ...  \n",
       "712                                   42  \n",
       "713                                   43  \n",
       "714                                   44  \n",
       "715                                   44  \n",
       "716                                   45  \n",
       "\n",
       "[717 rows x 29 columns]"
      ]
     },
     "execution_count": 71,
     "metadata": {},
     "output_type": "execute_result"
    }
   ],
   "source": [
    "# Display overview of cleansed data\n",
    "df_new"
   ]
  },
  {
   "cell_type": "code",
   "execution_count": 72,
   "id": "73fb2cf8",
   "metadata": {},
   "outputs": [],
   "source": [
    "df_new.to_csv('covid19_sg_clean.csv')"
   ]
  }
 ],
 "metadata": {
  "kernelspec": {
   "display_name": "Python 3 (ipykernel)",
   "language": "python",
   "name": "python3"
  },
  "language_info": {
   "codemirror_mode": {
    "name": "ipython",
    "version": 3
   },
   "file_extension": ".py",
   "mimetype": "text/x-python",
   "name": "python",
   "nbconvert_exporter": "python",
   "pygments_lexer": "ipython3",
   "version": "3.9.13"
  }
 },
 "nbformat": 4,
 "nbformat_minor": 5
}
